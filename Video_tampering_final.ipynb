{
  "cells": [
    {
      "cell_type": "code",
      "execution_count": null,
      "metadata": {
        "id": "yM8_aIOu-JOo"
      },
      "outputs": [],
      "source": [
        "import cv2\n",
        "from skimage.metrics import mean_squared_error, normalized_root_mse, structural_similarity, peak_signal_noise_ratio\n",
        "import csv\n",
        "import os\n",
        "import matplotlib.pyplot as plt\n",
        "import math\n",
        "import imutils\n",
        "import numpy as np\n",
        "from sklearn import tree\n",
        "from sklearn.svm import SVC\n",
        "from sklearn.naive_bayes import GaussianNB\n",
        "# from sklearn.ensemble import RandomForestClassifier\n",
        "# from sklearn.neighbors import KNeighborsClassifier\n",
        "from sklearn.metrics import accuracy_score,confusion_matrix\n",
        "from sklearn.linear_model import LogisticRegression\n",
        "from keras.models import Sequential\n",
        "from keras.layers import Dense,Dropout,Flatten\n",
        "from keras.callbacks import ModelCheckpoint, EarlyStopping\n",
        "from keras.utils import np_utils\n",
        "from sklearn.preprocessing import normalize\n",
        "\n",
        "\n",
        "from keras import applications\n",
        "from tensorflow.keras.optimizers import SGD\n",
        "from sklearn.utils import shuffle\n",
        "from keras.preprocessing.image import ImageDataGenerator\n",
        "\n",
        "from keras.layers import LSTM\n",
        "import glob\n",
        "# from scipy.misc.pilutil import imread,imresize\n",
        "\n",
        "from tensorflow.keras.layers import AveragePooling2D\n",
        "from tensorflow.keras.applications import ResNet50\n",
        "from tensorflow.keras.layers import Input\n",
        "from tensorflow.keras.layers import GRU\n",
        "\n",
        "from tensorflow.keras.models import Model\n",
        "from sklearn.model_selection import train_test_split\n",
        "from sklearn.metrics import classification_report\n",
        "\n",
        "import matplotlib "
      ]
    },
    {
      "cell_type": "code",
      "execution_count": null,
      "metadata": {
        "colab": {
          "base_uri": "https://localhost:8080/"
        },
        "id": "glsMus1l-Zhg",
        "outputId": "ac41fbbb-7252-43ea-8fb1-f11c432ee63c"
      },
      "outputs": [
        {
          "name": "stdout",
          "output_type": "stream",
          "text": [
            "Mounted at /content/gdrive\n"
          ]
        }
      ],
      "source": [
        "from google.colab import drive\n",
        "drive.mount('/content/gdrive')"
      ]
    },
    {
      "cell_type": "code",
      "execution_count": null,
      "metadata": {
        "id": "o59pmDLNvsEd"
      },
      "outputs": [],
      "source": [
        "Original=[]\n",
        "# Brightness=[]\n",
        "# Multiple=[]\n",
        "# RGB=[]\n",
        "# Rotation=[]\n",
        "# Scaling=[]\n",
        "# Shearing=[]\n",
        "# Flipping=[]\n",
        "l=[\"Brightness\",\"RGB\",\"Rotation\",\"Scaling\",\"Shearing\",\"Flipping\"]\n",
        "l2=[]\n",
        "for i in range(1,7):\n",
        "  for j in range(1,6):\n",
        "    l2.append(l[i-1]+\"_\"+str(j))\n",
        "\n",
        "d = dict.fromkeys(l2,[])\n",
        "d[\"Multiple_1\"]=[]\n",
        "d[\"Multiple_4\"]=[]"
      ]
    },
    {
      "cell_type": "code",
      "execution_count": null,
      "metadata": {
        "colab": {
          "base_uri": "https://localhost:8080/"
        },
        "id": "bWBwcCrCymvj",
        "outputId": "ac54f83c-1a28-484e-f239-007135e52607"
      },
      "outputs": [
        {
          "name": "stdout",
          "output_type": "stream",
          "text": [
            "/content/gdrive/MyDrive/Tampered Video Dataset/video_pro2\n",
            "video_pro2\n",
            "/content/gdrive/MyDrive/Tampered Video Dataset/video_pro1\n",
            "video_pro1\n",
            "/content/gdrive/MyDrive/Tampered Video Dataset/video_pro4\n",
            "video_pro4\n",
            "/content/gdrive/MyDrive/Tampered Video Dataset/video_pro5\n",
            "video_pro5\n",
            "/content/gdrive/MyDrive/Tampered Video Dataset/video_pro3\n",
            "video_pro3\n",
            "/content/gdrive/MyDrive/Tampered Video Dataset/Original\n",
            "Original\n",
            "video_pro1.avi\n",
            "True\n",
            "video_pro5.avi\n",
            "True\n",
            "video_pro3.avi\n",
            "True\n",
            "video_pro2.avi\n",
            "True\n",
            "video_pro4.avi\n",
            "True\n"
          ]
        }
      ],
      "source": [
        "root = os.path.join(os.getcwd(), 'gdrive/MyDrive/Tampered Video Dataset')\n",
        "\n",
        "for folder in os.listdir(root):\n",
        "    cwd = os.path.join(root + '/' + folder)\n",
        "    print(cwd)\n",
        "    \n",
        "    # os.mkdir(folder)\n",
        "    print(folder)\n",
        "    if folder == \"Original\":\n",
        "      for File in os.listdir(cwd):\n",
        "        cap = cv2.VideoCapture(os.path.join(root +'/'+folder+ '/'+ File)) \n",
        "        i=0\n",
        "        print(File)\n",
        "        print(cap.isOpened())\n",
        "        while(cap.isOpened()):\n",
        "          retn,frame= cap.read()\n",
        "          if retn!=True:\n",
        "            break\n",
        "          if i%math.floor(5)==0:\n",
        "            frame = cv2.cvtColor(frame, cv2.COLOR_BGR2RGB)\n",
        "            resized = cv2.resize(frame, (224,224), interpolation = cv2.INTER_AREA)\n",
        "            Original.append(resized)\n",
        "            \n",
        "          i+=1\n",
        "        cap.release()\n",
        "        cv2.destroyAllWindows()\n",
        "         \n",
        "            "
      ]
    },
    {
      "cell_type": "code",
      "execution_count": null,
      "metadata": {
        "id": "fWIkaVGMCymR"
      },
      "outputs": [],
      "source": [
        "for folder in os.listdir(root):\n",
        "    cwd = os.path.join(root + '/' + folder)\n",
        "    # print(cwd)\n",
        "    # os.mkdir(folder)\n",
        "    # print(folder)\n",
        "    if folder != \"Original\":\n",
        "\n",
        "      for sub_folder in os.listdir(cwd):\n",
        "        # print(sub_folder)\n",
        "        cwd2=os.path.join(root + '/' + folder+\"/\"+sub_folder)\n",
        "        cnt=0\n",
        "        for File in os.listdir(cwd2):\n",
        "          cap = cv2.VideoCapture(os.path.join(root + '/'+folder+'/' +sub_folder+'/'+ File)) \n",
        "          i=0\n",
        "          while(cap.isOpened()):\n",
        "            retn,frame= cap.read()\n",
        "            if retn!=True:\n",
        "              break\n",
        "            if i%math.floor(25)==0:\n",
        "              frame = cv2.cvtColor(frame, cv2.COLOR_BGR2RGB)\n",
        "              resized = cv2.resize(frame, (224,224), interpolation = cv2.INTER_AREA)\n",
        "              d[sub_folder+\"_\"+folder[-1]].append(resized)\n",
        "            \n",
        "            i+=1\n",
        "          cap.release()\n",
        "          cv2.destroyAllWindows()\n",
        "              \n",
        "\n",
        "          \n",
        "            "
      ]
    },
    {
      "cell_type": "code",
      "execution_count": null,
      "metadata": {
        "id": "nyQVIIV5IYmY"
      },
      "outputs": [],
      "source": [
        "Brightness=[d[\"Brightness_1\"],d[\"Brightness_2\"],d[\"Brightness_3\"],d[\"Brightness_4\"],d[\"Brightness_5\"]]\n",
        "Shearing=[d[\"Shearing_1\"],d[\"Shearing_2\"],d[\"Shearing_3\"],d[\"Shearing_4\"],d[\"Shearing_5\"]]\n",
        "Scaling=[d[\"Scaling_1\"],d[\"Scaling_2\"],d[\"Scaling_3\"],d[\"Scaling_4\"],d[\"Scaling_5\"]]\n",
        "RGB=[d[\"RGB_1\"],d[\"RGB_2\"],d[\"RGB_3\"],d[\"RGB_4\"],d[\"RGB_5\"]]\n",
        "Rotation=[d[\"Rotation_1\"],d[\"Rotation_2\"],d[\"Rotation_3\"],d[\"Rotation_4\"],d[\"Rotation_5\"]]\n",
        "Flipping=[d[\"Flipping_1\"],d[\"Flipping_2\"],d[\"Flipping_3\"],d[\"Flipping_4\"],d[\"Flipping_5\"]]\n",
        "Multiple=[d[\"Multiple_1\"],d[\"Multiple_4\"]]"
      ]
    },
    {
      "cell_type": "code",
      "execution_count": null,
      "metadata": {
        "id": "kOYAUTIxkxpG"
      },
      "outputs": [],
      "source": [
        "def getMse(img1,img2):\n",
        "\treturn mean_squared_error(img1,img2)"
      ]
    },
    {
      "cell_type": "code",
      "execution_count": null,
      "metadata": {
        "id": "31iXbeqBptUf"
      },
      "outputs": [],
      "source": [
        "def getPSNR(img1,img2):\n",
        "\treturn peak_signal_noise_ratio(img1,img2)"
      ]
    },
    {
      "cell_type": "code",
      "execution_count": null,
      "metadata": {
        "id": "u2WGeswHp4Un"
      },
      "outputs": [],
      "source": [
        "def getHistCompare(img1,img2):\n",
        "\thist1 = cv2.calcHist([img1],[0],None,[256],[0,256])\n",
        "\thist2 = cv2.calcHist([img2],[0],None,[256],[0,256])\n",
        "\treturn cv2.compareHist(hist1,hist2,3)"
      ]
    },
    {
      "cell_type": "code",
      "execution_count": null,
      "metadata": {
        "id": "amb8YW2BqDG1"
      },
      "outputs": [],
      "source": [
        "def getSSIM(img1,img2):\n",
        "\tgrayA = cv2.cvtColor(img1, cv2.COLOR_RGB2GRAY)\n",
        "\tgrayB = cv2.cvtColor(img2, cv2.COLOR_RGB2GRAY)\n",
        "\t(score, diff) = structural_similarity(grayA, grayB, full=True)\n",
        "\tdiff = (diff * 255).astype(\"uint8\")\n",
        "\treturn score,diff"
      ]
    },
    {
      "cell_type": "code",
      "execution_count": null,
      "metadata": {
        "id": "cLlYptnOqOhJ"
      },
      "outputs": [],
      "source": [
        "def getEntropy(img1,img2):\n",
        "\tim = cv2.absdiff(img1,img2)\n",
        "\treturn sum(sum(sum(im)))"
      ]
    },
    {
      "cell_type": "code",
      "execution_count": null,
      "metadata": {
        "id": "q0yOwFmvqe_7"
      },
      "outputs": [],
      "source": [
        "def getFeatures(img1,img2):\n",
        "  \n",
        "\n",
        "  ssim,diffImg = getSSIM(img1,img2)\n",
        "  features ={}\n",
        "  features['mse']=getMse(img1,img2)\n",
        "  features['psnr']=getPSNR(img1,img2)\n",
        "  features['histogram_compare'] = getHistCompare(img1,img2)\n",
        "  features['ssim']=ssim\n",
        "  features['entropy']=getEntropy(img1,img2)\n",
        "  return features"
      ]
    },
    {
      "cell_type": "code",
      "execution_count": null,
      "metadata": {
        "id": "Q5Bfrb0wJxDq"
      },
      "outputs": [],
      "source": [
        "def getTrainingFiles():\n",
        "  xtrain = []\n",
        "  ytrain = []\n",
        "  for x in range(0,len(Brightness)-1):\n",
        "    for y in range(0,len(Brightness[x])-1):\n",
        "\n",
        "      featureSet=getFeatures(Brightness[x][y],Brightness[x][y+1])\n",
        "      feature = []\n",
        "      feature.append(featureSet['mse'])\n",
        "      feature.append(featureSet['psnr'])\n",
        "      feature.append(featureSet['histogram_compare'])\n",
        "      feature.append(featureSet['ssim'])\n",
        "      feature.append(featureSet['entropy'])\n",
        "    \n",
        "      xtrain.append(feature)\n",
        "      ytrain.append(1)\n",
        "\n",
        "  for x in range(0,len(Original)-1):\n",
        "    featureSet=getFeatures(Original[x],Original[x+1])\n",
        "    feature = []\n",
        "    feature.append(featureSet['mse'])\n",
        "    feature.append(featureSet['psnr'])\n",
        "    feature.append(featureSet['histogram_compare'])\n",
        "    feature.append(featureSet['ssim'])\n",
        "    feature.append(featureSet['entropy'])\n",
        " \n",
        "    xtrain.append(feature)\n",
        "    ytrain.append(0)\n",
        "    \n",
        "  xtrain = np.array(xtrain,dtype=object)\t\n",
        "  xtrain = normalize(xtrain, norm='l2') \n",
        "  return xtrain,ytrain"
      ]
    },
    {
      "cell_type": "code",
      "execution_count": null,
      "metadata": {
        "colab": {
          "base_uri": "https://localhost:8080/"
        },
        "id": "OQogTgqTPls6",
        "outputId": "42e2cf41-7428-4790-99d0-72cf0cca57d0"
      },
      "outputs": [
        {
          "name": "stdout",
          "output_type": "stream",
          "text": [
            "0.9204844655081622\n"
          ]
        }
      ],
      "source": [
        "def svm(xtrain,ytrain):\n",
        "\tmodel = SVC()\n",
        "\tmodel.fit(xtrain, ytrain)\n",
        "\tprint(model.score(xtrain,ytrain))\n",
        "\t# pred = model.predict(xtest)\n",
        "\t# ct=0\n",
        "\t# for i in pred:\n",
        "\t# \tif i==1:\n",
        "\t# \t\treturn 1\n",
        "\t# return 0\n",
        "x_train,y_train=getTrainingFiles()\n",
        "svm(x_train,y_train)"
      ]
    },
    {
      "cell_type": "code",
      "execution_count": null,
      "metadata": {
        "colab": {
          "base_uri": "https://localhost:8080/"
        },
        "id": "XENYjbfvQEVf",
        "outputId": "d36af7a7-ac19-4f88-9907-f68e31940eb1"
      },
      "outputs": [
        {
          "name": "stdout",
          "output_type": "stream",
          "text": [
            "0.9204844655081622\n"
          ]
        }
      ],
      "source": [
        "def logisticRegression(xtrain,ytrain):\n",
        "\tmodel1 = LogisticRegression()\n",
        "\tmodel1.fit(xtrain, ytrain)\n",
        "\tprint(model1.score(xtrain, ytrain))\n",
        "\t# pred = model.predict(xtest)\n",
        "\t# ct=0\n",
        "\t# for i in pred:\n",
        "\t# \tif i==1:\n",
        "\t# \t\treturn 1\n",
        "\t# return 0\n",
        "logisticRegression(x_train,y_train)"
      ]
    },
    {
      "cell_type": "code",
      "execution_count": null,
      "metadata": {
        "colab": {
          "base_uri": "https://localhost:8080/",
          "height": 469
        },
        "id": "Xy7nbaWUQauG",
        "outputId": "7fd7ec4b-ed96-40b1-8e4a-36cce9b6fbf3"
      },
      "outputs": [
        {
          "name": "stdout",
          "output_type": "stream",
          "text": [
            "Epoch 1/5\n",
            "190/190 [==============================] - 1s 3ms/step - loss: 0.5252 - accuracy: 0.7981 - val_loss: 0.3139 - val_accuracy: 0.9200\n",
            "Epoch 2/5\n",
            "190/190 [==============================] - 0s 2ms/step - loss: 0.2809 - accuracy: 0.9206 - val_loss: 0.2746 - val_accuracy: 0.9200\n",
            "Epoch 3/5\n",
            "190/190 [==============================] - 0s 2ms/step - loss: 0.2735 - accuracy: 0.9206 - val_loss: 0.2744 - val_accuracy: 0.9200\n",
            "Epoch 4/5\n",
            "190/190 [==============================] - 0s 2ms/step - loss: 0.2737 - accuracy: 0.9206 - val_loss: 0.2744 - val_accuracy: 0.9200\n",
            "Epoch 5/5\n",
            "190/190 [==============================] - 0s 2ms/step - loss: 0.2733 - accuracy: 0.9206 - val_loss: 0.2746 - val_accuracy: 0.9200\n"
          ]
        },
        {
          "data": {
            "image/png": "[encoded data removed]",
            "text/plain": [
              "<Figure size 432x288 with 1 Axes>"
            ]
          },
          "metadata": {},
          "output_type": "display_data"
        }
      ],
      "source": [
        "def neuralNetwork(xtrain,ytrain):\n",
        "\t(trainX, testX, trainY, testY) = train_test_split(xtrain, ytrain, test_size=0.25, stratify=ytrain, random_state=42)\n",
        "\tmodel = Sequential()\n",
        "\tmodel.add(Dense(12, input_dim=len(xtrain[0]), activation='relu'))\n",
        "\tmodel.add(Dense(8, activation='relu'))\n",
        "\tmodel.add(Dense(1, activation='sigmoid'))\n",
        "\tmodel.compile(loss='binary_crossentropy', optimizer='adam', metrics=['accuracy'])\n",
        "\tH=model.fit(trainX,trainY,validation_data=(testX,testY), epochs=5, batch_size=15) \n",
        "\tplt.figure()\n",
        "\tplt.plot(np.arange(0, 5), H.history[\"loss\"], label=\"train_loss\")\n",
        "\tplt.plot(np.arange(0, 5), H.history[\"val_loss\"], label=\"val_loss\")\n",
        "\tplt.plot(np.arange(0, 5), H.history[\"accuracy\"], label=\"train_acc\")\n",
        "\tplt.plot(np.arange(0, 5), H.history[\"val_accuracy\"], label=\"val_acc\")\n",
        "\tplt.title(\"Training Loss and Accuracy on Dataset\")\n",
        "\tplt.xlabel(\"Epoch #\")\n",
        "\tplt.ylabel(\"Loss/Accuracy\")\n",
        "\tplt.legend(loc=\"upper right\")\n",
        "\t\n",
        "x_train = np.asarray(x_train).astype(np.float32)\n",
        "y_train = np.asarray(y_train).astype(np.float32)\n",
        "neuralNetwork(x_train,y_train)"
      ]
    },
    {
      "cell_type": "code",
      "execution_count": null,
      "metadata": {
        "id": "eGtdxSWkVm12"
      },
      "outputs": [],
      "source": [
        "def getdlTrainingFiles():\n",
        "  labels=[]\n",
        "  X=[]\n",
        "  for x in range(0,len(Brightness)-1):\n",
        "    for y in range(0,len(Brightness[x])-1):\n",
        "      X.append(Brightness[x][y])\n",
        "      labels.append(1)\n",
        "  \n",
        "  for x in range(0,len(Original)-1):\n",
        "    X.append(Original[x])\n",
        "    labels.append(0)\n",
        "  return X,labels\n",
        "\n"
      ]
    },
    {
      "cell_type": "code",
      "execution_count": null,
      "metadata": {
        "id": "J7_G-sNJUbQM"
      },
      "outputs": [],
      "source": [
        "X_train,Y_train = getdlTrainingFiles()\n",
        "\n",
        "def train_test_splitting():\n",
        "  (trainX, testX, trainY, testY) = train_test_split(X_train, Y_train, test_size=0.25, stratify=Y_train, random_state=42)\n",
        "  return trainX,testX,trainY,testY\n",
        "\n",
        "X_train,X_test,Y_train,Y_test=train_test_splitting()"
      ]
    },
    {
      "cell_type": "code",
      "execution_count": null,
      "metadata": {
        "id": "9s7HPc5VXWEg"
      },
      "outputs": [],
      "source": [
        "\n",
        "\n",
        "\n",
        "def CNNRNN():\n",
        "  baseModel = ResNet50(weights=\"imagenet\", include_top=False,input_tensor=Input(shape=(224, 224, 3)))\n",
        "\n",
        "  headModel = baseModel.output\n",
        "  frame_features_input = keras.Input((18, 875))(headModel)\n",
        "  mask_input = keras.Input((18,), dtype=\"bool\")\n",
        "\n",
        "  \n",
        "  x = keras.layers.GRU(16, return_sequences=True)(frame_features_input, mask=mask_input)(headModel)\n",
        "  x = keras.layers.GRU(8)(headModel)\n",
        "  x = keras.layers.Dropout(0.4)(headModel)\n",
        "  x = keras.layers.Dense(8, activation=\"relu\")\n",
        "  output = keras.layers.Dense(len(1), activation=\"softmax\")(headModel)\n",
        "\n",
        "  rnn_model = keras.Model([frame_features_input, mask_input], output)\n",
        "\n",
        "  rnn_model.compile(\n",
        "      loss=\"binary_crossentropy\", optimizer=\"adam\", metrics=[\"accuracy\"]\n",
        "  )\n",
        "  return rnn_model\n",
        "\n",
        "\n",
        "  plt.figure()\n",
        "  plt.plot(np.arange(0, 3), H.history[\"loss\"], label=\"train_loss\")\n",
        "  plt.plot(np.arange(0, 3), H.history[\"val_loss\"], label=\"val_loss\")\n",
        "  plt.plot(np.arange(0, 3), H.history[\"accuracy\"], label=\"train_acc\")\n",
        "  plt.plot(np.arange(0, 3), H.history[\"val_accuracy\"], label=\"val_acc\")\n",
        "  plt.title(\"Training Loss and Accuracy on Dataset\")\n",
        "  plt.xlabel(\"Epoch #\")\n",
        "  plt.ylabel(\"Loss/Accuracy\")\n",
        "  plt.legend(loc=\"lower left\")\n"
      ]
    },
    {
      "cell_type": "code",
      "execution_count": null,
      "metadata": {
        "colab": {
          "background_save": true,
          "base_uri": "https://localhost:8080/"
        },
        "id": "cuDxj03bad8W",
        "outputId": "8397549b-1935-4f73-ac49-8297ab5b27d1"
      },
      "outputs": [
        {
          "name": "stdout",
          "output_type": "stream",
          "text": [
            "(6643, 224, 224, 3)\n",
            "(6643,)\n",
            "(2215, 224, 224, 3)\n",
            "(2215,)\n",
            "training head...\n",
            "Epoch 1/3\n"
          ]
        },
        {
          "name": "stderr",
          "output_type": "stream",
          "text": [
            "/usr/local/lib/python3.7/dist-packages/keras/optimizer_v2/gradient_descent.py:102: UserWarning: The `lr` argument is deprecated, use `learning_rate` instead.\n",
            "  super(SGD, self).__init__(name, **kwargs)\n"
          ]
        },
        {
          "name": "stdout",
          "output_type": "stream",
          "text": [
            "207/207 [==============================] - ETA: 0s - loss: 0.1753 - accuracy: 0.9664WARNING:tensorflow:Your input ran out of data; interrupting training. Make sure that your dataset or generator can generate at least `steps_per_epoch * epochs` batches (in this case, 69 batches). You may need to use the repeat() function when building your dataset.\n",
            "207/207 [==============================] - 1246s 6s/step - loss: 0.1753 - accuracy: 0.9664 - val_loss: 0.1538 - val_accuracy: 0.9657\n",
            "Epoch 2/3\n",
            "207/207 [==============================] - 933s 5s/step - loss: 0.1739 - accuracy: 0.9659\n",
            "Epoch 3/3\n",
            "192/207 [==========================>...] - ETA: 1:07 - loss: 0.1654 - accuracy: 0.9656WARNING:tensorflow:Your input ran out of data; interrupting training. Make sure that your dataset or generator can generate at least `steps_per_epoch * epochs` batches (in this case, 621 batches). You may need to use the repeat() function when building your dataset.\n",
            "207/207 [==============================] - 868s 4s/step - loss: 0.1654 - accuracy: 0.9656\n"
          ]
        },
        {
          "ename": "ValueError",
          "evalue": "ignored",
          "output_type": "error",
          "traceback": [
            "\u001b[0;31m---------------------------------------------------------------------------\u001b[0m",
            "\u001b[0;31mValueError\u001b[0m                                Traceback (most recent call last)",
            "\u001b[0;32m<ipython-input-53-95387a3427d5>\u001b[0m in \u001b[0;36m<module>\u001b[0;34m()\u001b[0m\n\u001b[1;32m      8\u001b[0m \u001b[0mprint\u001b[0m\u001b[0;34m(\u001b[0m\u001b[0mX_test\u001b[0m\u001b[0;34m.\u001b[0m\u001b[0mshape\u001b[0m\u001b[0;34m)\u001b[0m\u001b[0;34m\u001b[0m\u001b[0;34m\u001b[0m\u001b[0m\n\u001b[1;32m      9\u001b[0m \u001b[0mprint\u001b[0m\u001b[0;34m(\u001b[0m\u001b[0mY_test\u001b[0m\u001b[0;34m.\u001b[0m\u001b[0mshape\u001b[0m\u001b[0;34m)\u001b[0m\u001b[0;34m\u001b[0m\u001b[0;34m\u001b[0m\u001b[0m\n\u001b[0;32m---> 10\u001b[0;31m \u001b[0mCNNRNN\u001b[0m\u001b[0;34m(\u001b[0m\u001b[0;34m)\u001b[0m\u001b[0;34m\u001b[0m\u001b[0;34m\u001b[0m\u001b[0m\n\u001b[0m",
            "\u001b[0;32m<ipython-input-50-8085473499b6>\u001b[0m in \u001b[0;36mCNNRNN\u001b[0;34m()\u001b[0m\n\u001b[1;32m     25\u001b[0m   \u001b[0mplt\u001b[0m\u001b[0;34m.\u001b[0m\u001b[0mfigure\u001b[0m\u001b[0;34m(\u001b[0m\u001b[0;34m)\u001b[0m\u001b[0;34m\u001b[0m\u001b[0;34m\u001b[0m\u001b[0m\n\u001b[1;32m     26\u001b[0m   \u001b[0mplt\u001b[0m\u001b[0;34m.\u001b[0m\u001b[0mplot\u001b[0m\u001b[0;34m(\u001b[0m\u001b[0mnp\u001b[0m\u001b[0;34m.\u001b[0m\u001b[0marange\u001b[0m\u001b[0;34m(\u001b[0m\u001b[0;36m0\u001b[0m\u001b[0;34m,\u001b[0m \u001b[0;36m3\u001b[0m\u001b[0;34m)\u001b[0m\u001b[0;34m,\u001b[0m \u001b[0mH\u001b[0m\u001b[0;34m.\u001b[0m\u001b[0mhistory\u001b[0m\u001b[0;34m[\u001b[0m\u001b[0;34m\"loss\"\u001b[0m\u001b[0;34m]\u001b[0m\u001b[0;34m,\u001b[0m \u001b[0mlabel\u001b[0m\u001b[0;34m=\u001b[0m\u001b[0;34m\"train_loss\"\u001b[0m\u001b[0;34m)\u001b[0m\u001b[0;34m\u001b[0m\u001b[0;34m\u001b[0m\u001b[0m\n\u001b[0;32m---> 27\u001b[0;31m   \u001b[0mplt\u001b[0m\u001b[0;34m.\u001b[0m\u001b[0mplot\u001b[0m\u001b[0;34m(\u001b[0m\u001b[0mnp\u001b[0m\u001b[0;34m.\u001b[0m\u001b[0marange\u001b[0m\u001b[0;34m(\u001b[0m\u001b[0;36m0\u001b[0m\u001b[0;34m,\u001b[0m \u001b[0;36m3\u001b[0m\u001b[0;34m)\u001b[0m\u001b[0;34m,\u001b[0m \u001b[0mH\u001b[0m\u001b[0;34m.\u001b[0m\u001b[0mhistory\u001b[0m\u001b[0;34m[\u001b[0m\u001b[0;34m\"val_loss\"\u001b[0m\u001b[0;34m]\u001b[0m\u001b[0;34m,\u001b[0m \u001b[0mlabel\u001b[0m\u001b[0;34m=\u001b[0m\u001b[0;34m\"val_loss\"\u001b[0m\u001b[0;34m)\u001b[0m\u001b[0;34m\u001b[0m\u001b[0;34m\u001b[0m\u001b[0m\n\u001b[0m\u001b[1;32m     28\u001b[0m   \u001b[0mplt\u001b[0m\u001b[0;34m.\u001b[0m\u001b[0mplot\u001b[0m\u001b[0;34m(\u001b[0m\u001b[0mnp\u001b[0m\u001b[0;34m.\u001b[0m\u001b[0marange\u001b[0m\u001b[0;34m(\u001b[0m\u001b[0;36m0\u001b[0m\u001b[0;34m,\u001b[0m \u001b[0;36m3\u001b[0m\u001b[0;34m)\u001b[0m\u001b[0;34m,\u001b[0m \u001b[0mH\u001b[0m\u001b[0;34m.\u001b[0m\u001b[0mhistory\u001b[0m\u001b[0;34m[\u001b[0m\u001b[0;34m\"accuracy\"\u001b[0m\u001b[0;34m]\u001b[0m\u001b[0;34m,\u001b[0m \u001b[0mlabel\u001b[0m\u001b[0;34m=\u001b[0m\u001b[0;34m\"train_acc\"\u001b[0m\u001b[0;34m)\u001b[0m\u001b[0;34m\u001b[0m\u001b[0;34m\u001b[0m\u001b[0m\n\u001b[1;32m     29\u001b[0m   \u001b[0mplt\u001b[0m\u001b[0;34m.\u001b[0m\u001b[0mplot\u001b[0m\u001b[0;34m(\u001b[0m\u001b[0mnp\u001b[0m\u001b[0;34m.\u001b[0m\u001b[0marange\u001b[0m\u001b[0;34m(\u001b[0m\u001b[0;36m0\u001b[0m\u001b[0;34m,\u001b[0m \u001b[0;36m3\u001b[0m\u001b[0;34m)\u001b[0m\u001b[0;34m,\u001b[0m \u001b[0mH\u001b[0m\u001b[0;34m.\u001b[0m\u001b[0mhistory\u001b[0m\u001b[0;34m[\u001b[0m\u001b[0;34m\"val_accuracy\"\u001b[0m\u001b[0;34m]\u001b[0m\u001b[0;34m,\u001b[0m \u001b[0mlabel\u001b[0m\u001b[0;34m=\u001b[0m\u001b[0;34m\"val_acc\"\u001b[0m\u001b[0;34m)\u001b[0m\u001b[0;34m\u001b[0m\u001b[0;34m\u001b[0m\u001b[0m\n",
            "\u001b[0;32m/usr/local/lib/python3.7/dist-packages/matplotlib/pyplot.py\u001b[0m in \u001b[0;36mplot\u001b[0;34m(scalex, scaley, data, *args, **kwargs)\u001b[0m\n\u001b[1;32m   2761\u001b[0m     return gca().plot(\n\u001b[1;32m   2762\u001b[0m         *args, scalex=scalex, scaley=scaley, **({\"data\": data} if data\n\u001b[0;32m-> 2763\u001b[0;31m         is not None else {}), **kwargs)\n\u001b[0m\u001b[1;32m   2764\u001b[0m \u001b[0;34m\u001b[0m\u001b[0m\n\u001b[1;32m   2765\u001b[0m \u001b[0;34m\u001b[0m\u001b[0m\n",
            "\u001b[0;32m/usr/local/lib/python3.7/dist-packages/matplotlib/axes/_axes.py\u001b[0m in \u001b[0;36mplot\u001b[0;34m(self, scalex, scaley, data, *args, **kwargs)\u001b[0m\n\u001b[1;32m   1645\u001b[0m         \"\"\"\n\u001b[1;32m   1646\u001b[0m         \u001b[0mkwargs\u001b[0m \u001b[0;34m=\u001b[0m \u001b[0mcbook\u001b[0m\u001b[0;34m.\u001b[0m\u001b[0mnormalize_kwargs\u001b[0m\u001b[0;34m(\u001b[0m\u001b[0mkwargs\u001b[0m\u001b[0;34m,\u001b[0m \u001b[0mmlines\u001b[0m\u001b[0;34m.\u001b[0m\u001b[0mLine2D\u001b[0m\u001b[0;34m)\u001b[0m\u001b[0;34m\u001b[0m\u001b[0;34m\u001b[0m\u001b[0m\n\u001b[0;32m-> 1647\u001b[0;31m         \u001b[0mlines\u001b[0m \u001b[0;34m=\u001b[0m \u001b[0;34m[\u001b[0m\u001b[0;34m*\u001b[0m\u001b[0mself\u001b[0m\u001b[0;34m.\u001b[0m\u001b[0m_get_lines\u001b[0m\u001b[0;34m(\u001b[0m\u001b[0;34m*\u001b[0m\u001b[0margs\u001b[0m\u001b[0;34m,\u001b[0m \u001b[0mdata\u001b[0m\u001b[0;34m=\u001b[0m\u001b[0mdata\u001b[0m\u001b[0;34m,\u001b[0m \u001b[0;34m**\u001b[0m\u001b[0mkwargs\u001b[0m\u001b[0;34m)\u001b[0m\u001b[0;34m]\u001b[0m\u001b[0;34m\u001b[0m\u001b[0;34m\u001b[0m\u001b[0m\n\u001b[0m\u001b[1;32m   1648\u001b[0m         \u001b[0;32mfor\u001b[0m \u001b[0mline\u001b[0m \u001b[0;32min\u001b[0m \u001b[0mlines\u001b[0m\u001b[0;34m:\u001b[0m\u001b[0;34m\u001b[0m\u001b[0;34m\u001b[0m\u001b[0m\n\u001b[1;32m   1649\u001b[0m             \u001b[0mself\u001b[0m\u001b[0;34m.\u001b[0m\u001b[0madd_line\u001b[0m\u001b[0;34m(\u001b[0m\u001b[0mline\u001b[0m\u001b[0;34m)\u001b[0m\u001b[0;34m\u001b[0m\u001b[0;34m\u001b[0m\u001b[0m\n",
            "\u001b[0;32m/usr/local/lib/python3.7/dist-packages/matplotlib/axes/_base.py\u001b[0m in \u001b[0;36m__call__\u001b[0;34m(self, *args, **kwargs)\u001b[0m\n\u001b[1;32m    214\u001b[0m                 \u001b[0mthis\u001b[0m \u001b[0;34m+=\u001b[0m \u001b[0margs\u001b[0m\u001b[0;34m[\u001b[0m\u001b[0;36m0\u001b[0m\u001b[0;34m]\u001b[0m\u001b[0;34m,\u001b[0m\u001b[0;34m\u001b[0m\u001b[0;34m\u001b[0m\u001b[0m\n\u001b[1;32m    215\u001b[0m                 \u001b[0margs\u001b[0m \u001b[0;34m=\u001b[0m \u001b[0margs\u001b[0m\u001b[0;34m[\u001b[0m\u001b[0;36m1\u001b[0m\u001b[0;34m:\u001b[0m\u001b[0;34m]\u001b[0m\u001b[0;34m\u001b[0m\u001b[0;34m\u001b[0m\u001b[0m\n\u001b[0;32m--> 216\u001b[0;31m             \u001b[0;32myield\u001b[0m \u001b[0;32mfrom\u001b[0m \u001b[0mself\u001b[0m\u001b[0;34m.\u001b[0m\u001b[0m_plot_args\u001b[0m\u001b[0;34m(\u001b[0m\u001b[0mthis\u001b[0m\u001b[0;34m,\u001b[0m \u001b[0mkwargs\u001b[0m\u001b[0;34m)\u001b[0m\u001b[0;34m\u001b[0m\u001b[0;34m\u001b[0m\u001b[0m\n\u001b[0m\u001b[1;32m    217\u001b[0m \u001b[0;34m\u001b[0m\u001b[0m\n\u001b[1;32m    218\u001b[0m     \u001b[0;32mdef\u001b[0m \u001b[0mget_next_color\u001b[0m\u001b[0;34m(\u001b[0m\u001b[0mself\u001b[0m\u001b[0;34m)\u001b[0m\u001b[0;34m:\u001b[0m\u001b[0;34m\u001b[0m\u001b[0;34m\u001b[0m\u001b[0m\n",
            "\u001b[0;32m/usr/local/lib/python3.7/dist-packages/matplotlib/axes/_base.py\u001b[0m in \u001b[0;36m_plot_args\u001b[0;34m(self, tup, kwargs)\u001b[0m\n\u001b[1;32m    340\u001b[0m \u001b[0;34m\u001b[0m\u001b[0m\n\u001b[1;32m    341\u001b[0m         \u001b[0;32mif\u001b[0m \u001b[0mx\u001b[0m\u001b[0;34m.\u001b[0m\u001b[0mshape\u001b[0m\u001b[0;34m[\u001b[0m\u001b[0;36m0\u001b[0m\u001b[0;34m]\u001b[0m \u001b[0;34m!=\u001b[0m \u001b[0my\u001b[0m\u001b[0;34m.\u001b[0m\u001b[0mshape\u001b[0m\u001b[0;34m[\u001b[0m\u001b[0;36m0\u001b[0m\u001b[0;34m]\u001b[0m\u001b[0;34m:\u001b[0m\u001b[0;34m\u001b[0m\u001b[0;34m\u001b[0m\u001b[0m\n\u001b[0;32m--> 342\u001b[0;31m             raise ValueError(f\"x and y must have same first dimension, but \"\n\u001b[0m\u001b[1;32m    343\u001b[0m                              f\"have shapes {x.shape} and {y.shape}\")\n\u001b[1;32m    344\u001b[0m         \u001b[0;32mif\u001b[0m \u001b[0mx\u001b[0m\u001b[0;34m.\u001b[0m\u001b[0mndim\u001b[0m \u001b[0;34m>\u001b[0m \u001b[0;36m2\u001b[0m \u001b[0;32mor\u001b[0m \u001b[0my\u001b[0m\u001b[0;34m.\u001b[0m\u001b[0mndim\u001b[0m \u001b[0;34m>\u001b[0m \u001b[0;36m2\u001b[0m\u001b[0;34m:\u001b[0m\u001b[0;34m\u001b[0m\u001b[0;34m\u001b[0m\u001b[0m\n",
            "\u001b[0;31mValueError\u001b[0m: x and y must have same first dimension, but have shapes (3,) and (1,)"
          ]
        },
        {
          "data": {
            "image/png": "[encoded data removed]",
            "text/plain": [
              "<Figure size 432x288 with 1 Axes>"
            ]
          },
          "metadata": {},
          "output_type": "display_data"
        }
      ],
      "source": [
        "X_train=np.array(X_train)\n",
        "Y_train=np.array(Y_train)\n",
        "X_test=np.array(X_test)\n",
        "Y_test=np.array(Y_test)\n",
        "\n",
        "print(X_train.shape)\n",
        "print(Y_train.shape)\n",
        "print(X_test.shape)\n",
        "print(Y_test.shape)\n",
        "CNNRNN()"
      ]
    },
    {
      "cell_type": "code",
      "execution_count": null,
      "metadata": {
        "colab": {
          "base_uri": "https://localhost:8080/"
        },
        "id": "3dqMYqwjXGul",
        "outputId": "5de024b2-cfc4-479f-d18e-8b64c0d7d1d1"
      },
      "outputs": [
        {
          "data": {
            "text/plain": [
              "5"
            ]
          },
          "execution_count": 32,
          "metadata": {},
          "output_type": "execute_result"
        }
      ],
      "source": [
        "len(Brightness)"
      ]
    },
    {
      "cell_type": "code",
      "execution_count": null,
      "metadata": {
        "colab": {
          "base_uri": "https://localhost:8080/"
        },
        "id": "VYF7Fh51rskQ",
        "outputId": "e3ac928f-f30e-4701-f5fc-831fa4bbcebe"
      },
      "outputs": [
        {
          "data": {
            "text/plain": [
              "875"
            ]
          },
          "execution_count": 37,
          "metadata": {},
          "output_type": "execute_result"
        }
      ],
      "source": [
        "len(Brightness[4])"
      ]
    },
    {
      "cell_type": "code",
      "execution_count": null,
      "metadata": {
        "id": "kY9uAcDx-0nP"
      },
      "outputs": [],
      "source": [
        "import shutil\n",
        "shutil.rmtree(\"Original\")\n",
        "shutil.rmtree(\"video_pro1\")\n",
        "shutil.rmtree(\"video_pro2\")\n",
        "shutil.rmtree(\"video_pro3\")\n",
        "shutil.rmtree(\"video_pro4\")\n",
        "shutil.rmtree(\"video_pro5\")\n",
        "# shutil.rmtree(\"video_pro6\")"
      ]
    },
    {
      "cell_type": "code",
      "execution_count": null,
      "metadata": {
        "id": "rv0IEH1V1Ixi"
      },
      "outputs": [],
      "source": [
        ""
      ]
    },
    {
      "cell_type": "code",
      "execution_count": null,
      "metadata": {
        "id": "Q0YiDqO4-1sc"
      },
      "outputs": [],
      "source": [
        ""
      ]
    }
  ],
  "metadata": {
    "colab": {
      "collapsed_sections": [],
      "name": "Video_tampering_final.ipynb",
      "provenance": []
    },
    "kernelspec": {
      "display_name": "Python 3",
      "name": "python3"
    },
    "language_info": {
      "name": "python"
    }
  },
  "nbformat": 4,
  "nbformat_minor": 0
}